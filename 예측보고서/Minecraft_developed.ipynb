{
 "cells": [
  {
   "cell_type": "markdown",
   "id": "e8184f3d-71f8-4832-95ae-b8e4ebb8f403",
   "metadata": {},
   "source": [
    "# 마인크래프트 예측보고서"
   ]
  },
  {
   "cell_type": "markdown",
   "id": "d1578d07-4a4a-4c80-be37-19aeee3a60f6",
   "metadata": {},
   "source": [
    "## 세션 생성 및 데이터 불러오기"
   ]
  },
  {
   "cell_type": "code",
   "execution_count": 1,
   "id": "1af0730e-0fbd-4f94-911b-93a0af574842",
   "metadata": {},
   "outputs": [],
   "source": [
    "from pyspark.sql import SparkSession\n",
    "from pyspark.sql.functions import col, when, sum as spark_sum\n",
    "from pyspark.ml.regression import LinearRegression\n",
    "from pyspark.ml.feature import VectorAssembler, StringIndexer, OneHotEncoder, StandardScaler\n",
    "from pyspark.ml import Pipeline\n",
    "\n",
    "# Spark 세션 생성\n",
    "spark = SparkSession.builder.appName(\"MobDropValueRegression\").getOrCreate()\n",
    "\n",
    "# 데이터 불러오기\n",
    "mobs = spark.read.csv('../learning_spark_data/minecraft/Mobs.csv', header=True, inferSchema=True)\n",
    "food = spark.read.csv('../learning_spark_data/minecraft/Food.csv', header=True, inferSchema=True)\n",
    "mob_food = spark.read.csv('../learning_spark_data/minecraft/MobFoodDrops.csv', header=True, inferSchema=True)"
   ]
  },
  {
   "cell_type": "markdown",
   "id": "beb9cbe4-a6ca-4619-aaab-3415ae27e2af",
   "metadata": {},
   "source": [
    "## 필요없는 데이터 컬럼 drop"
   ]
  },
  {
   "cell_type": "code",
   "execution_count": 2,
   "id": "47c33fd9-6207-4317-a8f4-2beaa9b3a07f",
   "metadata": {},
   "outputs": [],
   "source": [
    "mobs = mobs.drop(\"behaviorTypes\", \"spawnBehavior\", \"debutDate\", \"minecraftVersion\", \"reproductiveRequirement\")\n",
    "food = food.drop(\"debutDate\", \"minecraftVersion\")"
   ]
  },
  {
   "cell_type": "markdown",
   "id": "4053e899-8acb-4a36-837e-2a3eb809e68b",
   "metadata": {},
   "source": [
    "## NULL 처리 및 캐스팅"
   ]
  },
  {
   "cell_type": "code",
   "execution_count": 3,
   "id": "facf4093-a3fe-4a3c-904b-e811b165aa57",
   "metadata": {},
   "outputs": [],
   "source": [
    "mobs = mobs.withColumn(\"healthPoints\", col(\"healthPoints\").cast(\"double\"))\n",
    "mobs = mobs.withColumn(\"maxDamage\", when(col(\"maxDamage\").isNull(), 0).otherwise(col(\"maxDamage\")).cast(\"double\"))\n",
    "mobs = mobs.withColumn(\"difficultyScore\", col(\"healthPoints\") + col(\"maxDamage\") * 2)\n",
    "\n",
    "food = food.withColumn(\"hunger\", col(\"hunger\").cast(\"double\"))  # 드롭 가치 = hunger"
   ]
  },
  {
   "cell_type": "markdown",
   "id": "956e9e62-3e35-4d63-aac3-8070ee883553",
   "metadata": {},
   "source": [
    "- healthPoints: 체력을 숫자(double)로 바꿉니다.\n",
    "- maxDamage: 공격력이 비어 있을 경우 0으로 채우고 숫자로 변환합니다.\n",
    "- difficultyScore: 난이도를 계산하는 사용자 정의 지표입니다.\n",
    "- hunger: 음식의 포만감 점수를 숫자로 변환합니다.\n",
    "\n",
    "---\n",
    "\n",
    "-  왜 difficultyScore = healthPoints + maxDamage * 2 인가요?\n",
    "    - 체력(healthPoints): 몹이 오래 살아남을수록 잡기 어렵기 때문에 난이도에 포함합니다.\n",
    "    - 공격력(maxDamage): 몹이 주는 피해는 리스크이므로 더 큰 비중(×2)을 둡니다.\n",
    "    - 따라서 난이도 점수는 생존력 + 위협도를 동시에 반영한 값입니다."
   ]
  },
  {
   "cell_type": "markdown",
   "id": "aa7a1d94-a722-4423-bd73-2c931e35b3e6",
   "metadata": {},
   "source": [
    "## Join data"
   ]
  },
  {
   "cell_type": "code",
   "execution_count": 4,
   "id": "21b2d071-9faf-462b-b1c1-0141dece6138",
   "metadata": {},
   "outputs": [
    {
     "name": "stdout",
     "output_type": "stream",
     "text": [
      "+-----+--------------+\n",
      "|mobID|totalDropValue|\n",
      "+-----+--------------+\n",
      "|   53|           3.0|\n",
      "|   78|           8.0|\n",
      "|   34|           3.0|\n",
      "|   28|           2.0|\n",
      "|   76|           8.0|\n",
      "|   26|           2.0|\n",
      "|   22|           3.0|\n",
      "|   52|           4.0|\n",
      "|    6|           2.0|\n",
      "|   54|           3.0|\n",
      "+-----+--------------+\n",
      "only showing top 10 rows\n",
      "\n"
     ]
    }
   ],
   "source": [
    "# mobID → 몹 ID, foodID → 음식 ID로 연결\n",
    "\n",
    "# mob_food + food 조인 (foodID 기준)\n",
    "mob_food_value = mob_food.join(food, mob_food[\"foodID\"] == food[\"ID\"], how=\"left\") \\\n",
    "                         .select(mob_food[\"mobID\"], food[\"hunger\"])\n",
    "\n",
    "# 몹별 총 음식 드롭 가치 합산\n",
    "mob_drop_value = mob_food_value.groupBy(\"mobID\").agg(\n",
    "    spark_sum(\"hunger\").alias(\"totalDropValue\")\n",
    ")\n",
    "\n",
    "mob_drop_value.show(10)"
   ]
  },
  {
   "cell_type": "markdown",
   "id": "02676e63-96e7-452d-ae95-cfbbdae6b31d",
   "metadata": {},
   "source": [
    "- mob_food과 food 데이터를 음식 ID로 연결하여, 몹이 드롭하는 음식의 hunger 점수를 가져왔습니다.\n",
    "- 연결된 데이터에서 각 몹이 드롭하는 음식의 hunger 점수를 모두 더해 totalDropValue를 계산했습니다.\n",
    "- 결과는 몹 ID별로 드롭 가치가 얼마인지 보여줍니다.\n",
    "    - 예: mobID=78은 허기짐을 총 8칸 채울 수 있는 양의 음식을 드롭합니다."
   ]
  },
  {
   "cell_type": "code",
   "execution_count": 5,
   "id": "bdaa8071-d7d6-4752-8b5d-dbfbd1ea38f1",
   "metadata": {},
   "outputs": [
    {
     "name": "stdout",
     "output_type": "stream",
     "text": [
      "+---------------+------------+---------+---------------+--------------+---------------+\n",
      "|name           |healthPoints|maxDamage|difficultyScore|totalDropValue|efficiencyScore|\n",
      "+---------------+------------+---------+---------------+--------------+---------------+\n",
      "|salmon         |3.0         |0.0      |3.0            |2.0           |0.50           |\n",
      "|cod            |3.0         |0.0      |3.0            |2.0           |0.50           |\n",
      "|chicken        |4.0         |0.0      |4.0            |2.0           |0.40           |\n",
      "|zombie_villager|20.0        |3.0      |26.0           |8.0           |0.30           |\n",
      "|husk           |20.0        |3.0      |26.0           |8.0           |0.30           |\n",
      "|zombie         |20.0        |3.0      |26.0           |8.0           |0.30           |\n",
      "|mooshroom      |10.0        |0.0      |10.0           |3.0           |0.27           |\n",
      "|pig            |10.0        |0.0      |10.0           |3.0           |0.27           |\n",
      "|cow            |10.0        |0.0      |10.0           |3.0           |0.27           |\n",
      "|tropical fish  |3.0         |0.0      |3.0            |1.0           |0.25           |\n",
      "+---------------+------------+---------+---------------+--------------+---------------+\n",
      "only showing top 10 rows\n",
      "\n"
     ]
    }
   ],
   "source": [
    "from pyspark.sql.functions import col, when, format_number\n",
    "\n",
    "# mobs.ID ↔ mob_drop_value.mobID 연결\n",
    "mob_efficiency = mobs.join(mob_drop_value, mobs[\"ID\"] == mob_drop_value[\"mobID\"], how=\"left\")\n",
    "\n",
    "# NULL 처리: 드롭 없으면 0\n",
    "mob_efficiency = mob_efficiency.withColumn(\n",
    "    \"totalDropValue\",\n",
    "    when(col(\"totalDropValue\").isNull(), 0).otherwise(col(\"totalDropValue\"))\n",
    ")\n",
    "\n",
    "# 가성비 계산: 드롭 가치 / (사냥 난이도 + 1)\n",
    "mob_efficiency = mob_efficiency.withColumn(\n",
    "    \"efficiencyScore\",\n",
    "    col(\"totalDropValue\") / (col(\"difficultyScore\") + 1)\n",
    ")\n",
    "\n",
    "# totalDropValue가 0인 행 제거\n",
    "mob_efficiency = mob_efficiency.filter(col(\"totalDropValue\") > 0)\n",
    "\n",
    "# 소수점 둘째자리로 포맷 (출력용)\n",
    "mob_efficiency = mob_efficiency.withColumn(\n",
    "    \"efficiencyScore\", format_number(\"efficiencyScore\", 2)\n",
    ")\n",
    "\n",
    "# 출력\n",
    "mob_efficiency.select(\n",
    "    \"name\", \"healthPoints\", \"maxDamage\", \"difficultyScore\", \"totalDropValue\", \"efficiencyScore\"\n",
    ").orderBy(col(\"efficiencyScore\").desc()).show(10, truncate=False)"
   ]
  },
  {
   "cell_type": "markdown",
   "id": "1f9dbf34-3147-4c03-b601-477731b3fe0e",
   "metadata": {},
   "source": [
    "- mobs 데이터와 mob_drop_value 데이터를 몹 ID 기준으로 결합합니다.\n",
    "- 드롭 음식 정보가 없는 몹은 totalDropValue = 0으로 처리합니다.\n",
    "\n",
    "---\n",
    "\n",
    "- 가성비 계산: efficiencyScore = totalDropValue / (difficultyScore + 1)\n",
    "- 드롭 가치가 0인 몹은 분석에서 제외합니다."
   ]
  },
  {
   "cell_type": "code",
   "execution_count": 6,
   "id": "8bddd80e-f5f9-472e-bc57-f96a04871abf",
   "metadata": {},
   "outputs": [],
   "source": [
    "from pyspark.sql.functions import col\n",
    "\n",
    "mob_efficiency = mob_efficiency.withColumn(\"efficiencyScore\", col(\"efficiencyScore\").cast(\"double\"))"
   ]
  },
  {
   "cell_type": "markdown",
   "id": "0ebeee25-fb81-4da5-ac25-034225d36524",
   "metadata": {},
   "source": [
    "## 모델 학습 및 평가"
   ]
  },
  {
   "cell_type": "code",
   "execution_count": 7,
   "id": "79a29e74-ddff-4d33-81a3-cb15399bbc87",
   "metadata": {},
   "outputs": [],
   "source": [
    "# 피처 엔지니어링: 필요 컬럼 선택\n",
    "features = [\"healthPoints\", \"maxDamage\", \"totalDropValue\"]"
   ]
  },
  {
   "cell_type": "code",
   "execution_count": 8,
   "id": "a30ba7d9-8ab7-454b-8d84-36b8477596a8",
   "metadata": {},
   "outputs": [],
   "source": [
    "stages = []"
   ]
  },
  {
   "cell_type": "code",
   "execution_count": 9,
   "id": "5227da8c-8f6a-4418-beea-1765304fe353",
   "metadata": {},
   "outputs": [
    {
     "data": {
      "text/plain": [
       "[VectorAssembler_c5fddc12fa8a]"
      ]
     },
     "execution_count": 9,
     "metadata": {},
     "output_type": "execute_result"
    }
   ],
   "source": [
    "from pyspark.ml.feature import StandardScaler, VectorAssembler\n",
    "\n",
    "num_assembler = VectorAssembler(inputCols=[\"healthPoints\", \"maxDamage\", \"totalDropValue\"], outputCol= 'feature_vector')\n",
    "stages += [num_assembler]\n",
    "\n",
    "stages"
   ]
  },
  {
   "cell_type": "code",
   "execution_count": 10,
   "id": "38a15dc1-eb9b-4c7c-b121-2ef27bf1a992",
   "metadata": {},
   "outputs": [],
   "source": [
    "train_df, test_df = mob_efficiency.randomSplit([0.95,0.05], seed=300)"
   ]
  },
  {
   "cell_type": "code",
   "execution_count": 11,
   "id": "1d59e8e4-cb8c-4c75-af4e-0548d748e246",
   "metadata": {
    "scrolled": true
   },
   "outputs": [
    {
     "name": "stdout",
     "output_type": "stream",
     "text": [
      "root\n",
      " |-- ID: integer (nullable = true)\n",
      " |-- name: string (nullable = true)\n",
      " |-- healthPoints: double (nullable = true)\n",
      " |-- maxDamage: double (nullable = true)\n",
      " |-- difficultyScore: double (nullable = true)\n",
      " |-- mobID: integer (nullable = true)\n",
      " |-- totalDropValue: double (nullable = true)\n",
      " |-- efficiencyScore: double (nullable = true)\n",
      " |-- feature_vector: vector (nullable = true)\n",
      "\n"
     ]
    }
   ],
   "source": [
    "from pyspark.ml import Pipeline\n",
    "pipeline = Pipeline(stages=stages)\n",
    "fitted_transform = pipeline.fit(train_df)\n",
    "vtrain_df = fitted_transform.transform(train_df)\n",
    "vtrain_df.printSchema()"
   ]
  },
  {
   "cell_type": "code",
   "execution_count": 12,
   "id": "7e01bc39-4755-42e5-b09d-35dc38341972",
   "metadata": {},
   "outputs": [
    {
     "name": "stdout",
     "output_type": "stream",
     "text": [
      "+--------------+---------------+\n",
      "|feature_vector|efficiencyScore|\n",
      "+--------------+---------------+\n",
      "| [4.0,0.0,2.0]|            0.4|\n",
      "|[10.0,3.0,2.0]|           0.12|\n",
      "+--------------+---------------+\n",
      "only showing top 2 rows\n",
      "\n"
     ]
    }
   ],
   "source": [
    "vtrain_df.select('feature_vector', 'efficiencyScore').show(2)"
   ]
  },
  {
   "cell_type": "code",
   "execution_count": 13,
   "id": "1b4d82d4-f3ec-4fa5-aba7-8dced7191c62",
   "metadata": {},
   "outputs": [],
   "source": [
    "from pyspark.ml.regression import LinearRegression\n",
    "lr = LinearRegression(maxIter=50, solver='normal', \n",
    "                 labelCol='efficiencyScore', featuresCol='feature_vector')"
   ]
  },
  {
   "cell_type": "code",
   "execution_count": 14,
   "id": "83ece2c6-d4a9-4b2b-a1e1-9f5dd5671d8b",
   "metadata": {},
   "outputs": [],
   "source": [
    "model = lr.fit(vtrain_df)"
   ]
  },
  {
   "cell_type": "code",
   "execution_count": 15,
   "id": "cd126538-ae16-4eaa-8e0d-f8677f934c66",
   "metadata": {},
   "outputs": [],
   "source": [
    "#테스트데이터도 변환\n",
    "vtest_df = fitted_transform.transform(test_df)\n",
    "#테스트데이터로 예측\n",
    "pred = model.transform(vtest_df)"
   ]
  },
  {
   "cell_type": "code",
   "execution_count": 16,
   "id": "342cdfbd-83ff-40d9-b96b-d0297017ee04",
   "metadata": {
    "scrolled": true
   },
   "outputs": [
    {
     "name": "stdout",
     "output_type": "stream",
     "text": [
      "+---------------+--------------------+\n",
      "|efficiencyScore|          prediction|\n",
      "+---------------+--------------------+\n",
      "|           0.02|-0.18378511036286294|\n",
      "|           0.22|  0.3227520020579866|\n",
      "+---------------+--------------------+\n",
      "\n"
     ]
    }
   ],
   "source": [
    "pred.select('efficiencyScore', 'prediction').show()"
   ]
  },
  {
   "cell_type": "code",
   "execution_count": 17,
   "id": "e5caae24-2c09-4dc4-994e-b527dfd57ce7",
   "metadata": {},
   "outputs": [
    {
     "data": {
      "text/plain": [
       "(0.7443854326480102, 0.0698451417899431)"
      ]
     },
     "execution_count": 17,
     "metadata": {},
     "output_type": "execute_result"
    }
   ],
   "source": [
    "model.summary.r2, model.summary.rootMeanSquaredError"
   ]
  },
  {
   "cell_type": "markdown",
   "id": "e155b5e4-d2d4-4320-ac3a-6568ac103abe",
   "metadata": {},
   "source": [
    "## 결론\n",
    "\n",
    "전체 데이터를 기반으로 한 선형 회귀 모델의 성능은 기대에 못 미쳤습니다. 몹의 체력(healthPoints)과 공격력(maxDamage)만으로는 드롭 가치를 충분히 설명하기 어려웠습니다.\n",
    "- 설명력(R²)이 약 0.69 수준으로, 예측 모델이 드롭 가치 변동의 69% 정도만 설명하고 있다는 뜻입니다. 이는 중간 수준의 설명력으로, 현실적으로는 예측 신뢰도가 높지 않다는 해석도 가능합니다.\n",
    "- 평균 제곱근 오차(RMSE)는 0.0784로 비교적 작게 보일 수 있지만, 전체 점수 분포가 좁은 상황에서는 이 수치도 의미 있는 오차로 간주할 수 있습니다.\n",
    "- 테스트 세트의 예측 효율 점수 분포를 보면, 실제 점수와 큰 차이를 보이는 몹들이 적지 않으며, 상위권 효율 몹 선정에서도 예측이 엇갈린 경우가 있습니다.\n",
    "\n",
    "결국, 체력과 공격력만으로 몹의 가성비를 예측하기에는 정보가 부족하다는 것이 확인됐습니다. 몹의 드롭 효율은 난이도, 리스폰 빈도, 이동 패턴, 공격 빈도 등 다양한 요소의 영향을 받기 때문에, 모델에 반영된 피처가 너무 단순했던 것으로 판단됩니다.\n",
    "\n",
    "향후 분석을 개선하기 위해서는 다음과 같은 보완이 필요합니다:\n",
    "- 공격 빈도, 사망 시점 조건 등의 난이도 관련 요소 추가\n",
    "- 드롭 확률 또는 드롭 아이템 다양성 반영\n",
    "- 범주형 변수(몹 타입, 차원 구분 등) 도입을 통한 구조적 다양성 확보\n",
    "\n",
    "현재 모델은 단순 구조 기반 예측 실험의 초석이 되었으며, 게임 내 실제 밸런싱 판단에는 부족한 수준임을 확인한 것이 이번 분석의 주요 결론입니다."
   ]
  },
  {
   "cell_type": "code",
   "execution_count": null,
   "id": "3f5375f4-3008-489d-a5f0-58336da25699",
   "metadata": {},
   "outputs": [],
   "source": []
  }
 ],
 "metadata": {
  "kernelspec": {
   "display_name": "Python 3 (ipykernel)",
   "language": "python",
   "name": "python3"
  },
  "language_info": {
   "codemirror_mode": {
    "name": "ipython",
    "version": 3
   },
   "file_extension": ".py",
   "mimetype": "text/x-python",
   "name": "python",
   "nbconvert_exporter": "python",
   "pygments_lexer": "ipython3",
   "version": "3.11.6"
  }
 },
 "nbformat": 4,
 "nbformat_minor": 5
}
