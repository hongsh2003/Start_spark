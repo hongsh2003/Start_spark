{
 "cells": [
  {
   "cell_type": "code",
   "execution_count": 1,
   "id": "1af0730e-0fbd-4f94-911b-93a0af574842",
   "metadata": {},
   "outputs": [],
   "source": [
    "from pyspark.sql import SparkSession\n",
    "from pyspark.sql.functions import col, when, sum as spark_sum\n",
    "from pyspark.ml.regression import LinearRegression\n",
    "from pyspark.ml.feature import VectorAssembler, StringIndexer, OneHotEncoder, StandardScaler\n",
    "from pyspark.ml import Pipeline\n",
    "\n",
    "# 1. Spark 세션 생성\n",
    "spark = SparkSession.builder.appName(\"MobDropValueRegression\").getOrCreate()\n",
    "\n",
    "# 2. 데이터 불러오기\n",
    "mobs = spark.read.csv('../learning_spark_data/minecraft/Mobs.csv', header=True, inferSchema=True)\n",
    "food = spark.read.csv('../learning_spark_data/minecraft/Food.csv', header=True, inferSchema=True)\n",
    "mob_food = spark.read.csv('../learning_spark_data/minecraft/MobFoodDrops.csv', header=True, inferSchema=True)"
   ]
  },
  {
   "cell_type": "code",
   "execution_count": 2,
   "id": "47c33fd9-6207-4317-a8f4-2beaa9b3a07f",
   "metadata": {},
   "outputs": [],
   "source": [
    "# 필요없는 데이터 컬럼 drop\n",
    "mobs = mobs.drop(\"behaviorTypes\", \"spawnBehavior\", \"debutDate\", \"minecraftVersion\", \"reproductiveRequirement\")\n",
    "food = food.drop(\"debutDate\", \"minecraftVersion\")"
   ]
  },
  {
   "cell_type": "code",
   "execution_count": 3,
   "id": "21b2d071-9faf-462b-b1c1-0141dece6138",
   "metadata": {},
   "outputs": [
    {
     "name": "stdout",
     "output_type": "stream",
     "text": [
      "+-----+--------------+\n",
      "|mobID|totalDropValue|\n",
      "+-----+--------------+\n",
      "|   53|             3|\n",
      "|   78|             8|\n",
      "|   34|             3|\n",
      "|   28|             2|\n",
      "|   76|             8|\n",
      "|   26|             2|\n",
      "|   22|             3|\n",
      "|   52|             4|\n",
      "|    6|             2|\n",
      "|   54|             3|\n",
      "+-----+--------------+\n",
      "only showing top 10 rows\n",
      "\n"
     ]
    }
   ],
   "source": [
    "# mobID → 몹 ID, foodID → 음식 ID로 연결\n",
    "\n",
    "# mob_food + food 조인 (foodID 기준)\n",
    "mob_food_value = mob_food.join(food, mob_food[\"foodID\"] == food[\"ID\"], how=\"left\") \\\n",
    "                         .select(mob_food[\"mobID\"], food[\"hunger\"])\n",
    "\n",
    "# 몹별 총 음식 드롭 가치 합산\n",
    "mob_drop_value = mob_food_value.groupBy(\"mobID\").agg(\n",
    "    spark_sum(\"hunger\").alias(\"totalDropValue\")\n",
    ")\n",
    "\n",
    "mob_drop_value.show(10)"
   ]
  },
  {
   "cell_type": "code",
   "execution_count": 4,
   "id": "facf4093-a3fe-4a3c-904b-e811b165aa57",
   "metadata": {},
   "outputs": [],
   "source": [
    "# NULL 처리 및 캐스팅\n",
    "mobs = mobs.withColumn(\"healthPoints\", col(\"healthPoints\").cast(\"double\"))\n",
    "mobs = mobs.withColumn(\"maxDamage\", when(col(\"maxDamage\").isNull(), 0).otherwise(col(\"maxDamage\")).cast(\"double\"))\n",
    "mobs = mobs.withColumn(\"difficultyScore\", col(\"healthPoints\") + col(\"maxDamage\") * 2)\n",
    "\n",
    "food = food.withColumn(\"hunger\", col(\"hunger\").cast(\"double\"))  # 드롭 가치 = hunger"
   ]
  },
  {
   "cell_type": "code",
   "execution_count": 5,
   "id": "bdaa8071-d7d6-4752-8b5d-dbfbd1ea38f1",
   "metadata": {},
   "outputs": [
    {
     "name": "stdout",
     "output_type": "stream",
     "text": [
      "+----------------+------------+---------+---------------+--------------+---------------+\n",
      "|name            |healthPoints|maxDamage|difficultyScore|totalDropValue|efficiencyScore|\n",
      "+----------------+------------+---------+---------------+--------------+---------------+\n",
      "|salmon          |3.0         |0.0      |3.0            |2             |0.50           |\n",
      "|cod             |3.0         |0.0      |3.0            |2             |0.50           |\n",
      "|chicken         |4.0         |0.0      |4.0            |2             |0.40           |\n",
      "|zombie_villager |20.0        |3.0      |26.0           |8             |0.30           |\n",
      "|husk            |20.0        |3.0      |26.0           |8             |0.30           |\n",
      "|zombie          |20.0        |3.0      |26.0           |8             |0.30           |\n",
      "|mooshroom       |10.0        |0.0      |10.0           |3             |0.27           |\n",
      "|pig             |10.0        |0.0      |10.0           |3             |0.27           |\n",
      "|cow             |10.0        |0.0      |10.0           |3             |0.27           |\n",
      "|tropical fish   |3.0         |0.0      |3.0            |1             |0.25           |\n",
      "|sheep           |8.0         |0.0      |8.0            |2             |0.22           |\n",
      "|killer rabbit   |3.0         |8.0      |19.0           |3             |0.15           |\n",
      "|rabbit          |3.0         |8.0      |19.0           |3             |0.15           |\n",
      "|dolphin         |10.0        |3.0      |16.0           |2             |0.12           |\n",
      "|zombified_piglin|20.0        |8.0      |36.0           |4             |0.11           |\n",
      "|polarbear       |30.0        |6.0      |42.0           |4             |0.09           |\n",
      "|drowned         |20.0        |11.0     |42.0           |4             |0.09           |\n",
      "|zoglin          |40.0        |8.0      |56.0           |4             |0.07           |\n",
      "|hoglin          |40.0        |8.0      |56.0           |3             |0.05           |\n",
      "|guardian        |30.0        |6.0      |42.0           |2             |0.05           |\n",
      "|guardian_elder  |80.0        |8.0      |96.0           |2             |0.02           |\n",
      "+----------------+------------+---------+---------------+--------------+---------------+\n",
      "\n"
     ]
    }
   ],
   "source": [
    "from pyspark.sql.functions import col, when, format_number\n",
    "\n",
    "# mobs.ID ↔ mob_drop_value.mobID 연결\n",
    "mob_efficiency = mobs.join(mob_drop_value, mobs[\"ID\"] == mob_drop_value[\"mobID\"], how=\"left\")\n",
    "\n",
    "# NULL 처리: 드롭 없으면 0\n",
    "mob_efficiency = mob_efficiency.withColumn(\n",
    "    \"totalDropValue\",\n",
    "    when(col(\"totalDropValue\").isNull(), 0).otherwise(col(\"totalDropValue\"))\n",
    ")\n",
    "\n",
    "# 가성비 계산: 드롭 가치 / (사냥 난이도 + 1)\n",
    "mob_efficiency = mob_efficiency.withColumn(\n",
    "    \"efficiencyScore\",\n",
    "    col(\"totalDropValue\") / (col(\"difficultyScore\") + 1)\n",
    ")\n",
    "\n",
    "# totalDropValue가 0인 행 제거\n",
    "mob_efficiency = mob_efficiency.filter(col(\"totalDropValue\") > 0)\n",
    "\n",
    "# 소수점 둘째자리로 포맷 (출력용)\n",
    "mob_efficiency = mob_efficiency.withColumn(\n",
    "    \"efficiencyScore\", format_number(\"efficiencyScore\", 2)\n",
    ")\n",
    "\n",
    "# 출력\n",
    "mob_efficiency.select(\n",
    "    \"name\", \"healthPoints\", \"maxDamage\", \"difficultyScore\", \"totalDropValue\", \"efficiencyScore\"\n",
    ").orderBy(col(\"efficiencyScore\").desc()).show(30, truncate=False)"
   ]
  },
  {
   "cell_type": "code",
   "execution_count": 6,
   "id": "8bddd80e-f5f9-472e-bc57-f96a04871abf",
   "metadata": {},
   "outputs": [],
   "source": [
    "from pyspark.sql.functions import col\n",
    "\n",
    "mob_efficiency = mob_efficiency.withColumn(\"efficiencyScore\", col(\"efficiencyScore\").cast(\"double\"))\n"
   ]
  },
  {
   "cell_type": "code",
   "execution_count": 7,
   "id": "79a29e74-ddff-4d33-81a3-cb15399bbc87",
   "metadata": {},
   "outputs": [],
   "source": [
    "# 5. 피처 엔지니어링: 필요 컬럼 선택\n",
    "features = [\"difficultyScore\", \"totalDropValue\"]\n"
   ]
  },
  {
   "cell_type": "code",
   "execution_count": 8,
   "id": "a30ba7d9-8ab7-454b-8d84-36b8477596a8",
   "metadata": {},
   "outputs": [],
   "source": [
    "stages = []"
   ]
  },
  {
   "cell_type": "code",
   "execution_count": 9,
   "id": "5227da8c-8f6a-4418-beea-1765304fe353",
   "metadata": {},
   "outputs": [
    {
     "data": {
      "text/plain": [
       "[VectorAssembler_89c139c1558e]"
      ]
     },
     "execution_count": 9,
     "metadata": {},
     "output_type": "execute_result"
    }
   ],
   "source": [
    "from pyspark.ml.feature import StandardScaler, VectorAssembler\n",
    "\n",
    "num_assembler = VectorAssembler(inputCols=[\"difficultyScore\", \"totalDropValue\"], outputCol= 'feature_vector')\n",
    "stages += [num_assembler]\n",
    "\n",
    "stages"
   ]
  },
  {
   "cell_type": "code",
   "execution_count": 10,
   "id": "38a15dc1-eb9b-4c7c-b121-2ef27bf1a992",
   "metadata": {},
   "outputs": [],
   "source": [
    "train_df, test_df = mob_efficiency.randomSplit([0.8,0.2], seed=1)"
   ]
  },
  {
   "cell_type": "code",
   "execution_count": 11,
   "id": "1d59e8e4-cb8c-4c75-af4e-0548d748e246",
   "metadata": {
    "scrolled": true
   },
   "outputs": [
    {
     "name": "stdout",
     "output_type": "stream",
     "text": [
      "root\n",
      " |-- ID: integer (nullable = true)\n",
      " |-- name: string (nullable = true)\n",
      " |-- healthPoints: double (nullable = true)\n",
      " |-- maxDamage: double (nullable = true)\n",
      " |-- difficultyScore: double (nullable = true)\n",
      " |-- mobID: integer (nullable = true)\n",
      " |-- totalDropValue: long (nullable = true)\n",
      " |-- efficiencyScore: double (nullable = true)\n",
      " |-- feature_vector: vector (nullable = true)\n",
      "\n"
     ]
    }
   ],
   "source": [
    "from pyspark.ml import Pipeline\n",
    "pipeline = Pipeline(stages=stages)\n",
    "fitted_transform = pipeline.fit(train_df)\n",
    "vtrain_df = fitted_transform.transform(train_df)\n",
    "vtrain_df.printSchema()"
   ]
  },
  {
   "cell_type": "code",
   "execution_count": 12,
   "id": "7e01bc39-4755-42e5-b09d-35dc38341972",
   "metadata": {},
   "outputs": [
    {
     "name": "stdout",
     "output_type": "stream",
     "text": [
      "+--------------+---------------+\n",
      "|feature_vector|efficiencyScore|\n",
      "+--------------+---------------+\n",
      "|     [4.0,2.0]|            0.4|\n",
      "|    [16.0,2.0]|           0.12|\n",
      "+--------------+---------------+\n",
      "only showing top 2 rows\n",
      "\n"
     ]
    }
   ],
   "source": [
    "vtrain_df.select('feature_vector', 'efficiencyScore').show(2)"
   ]
  },
  {
   "cell_type": "code",
   "execution_count": 13,
   "id": "1b4d82d4-f3ec-4fa5-aba7-8dced7191c62",
   "metadata": {},
   "outputs": [],
   "source": [
    "from pyspark.ml.regression import LinearRegression\n",
    "lr = LinearRegression(maxIter=50, solver='normal', \n",
    "                 labelCol='efficiencyScore', featuresCol='feature_vector')"
   ]
  },
  {
   "cell_type": "code",
   "execution_count": 14,
   "id": "83ece2c6-d4a9-4b2b-a1e1-9f5dd5671d8b",
   "metadata": {},
   "outputs": [],
   "source": [
    "model = lr.fit(vtrain_df)"
   ]
  },
  {
   "cell_type": "code",
   "execution_count": 15,
   "id": "cd126538-ae16-4eaa-8e0d-f8677f934c66",
   "metadata": {},
   "outputs": [],
   "source": [
    "#테스트데이터도 변환\n",
    "vtest_df = fitted_transform.transform(test_df)\n",
    "#테스트데이터로 예측\n",
    "pred = model.transform(vtest_df)"
   ]
  },
  {
   "cell_type": "code",
   "execution_count": 16,
   "id": "342cdfbd-83ff-40d9-b96b-d0297017ee04",
   "metadata": {},
   "outputs": [
    {
     "name": "stdout",
     "output_type": "stream",
     "text": [
      "+---------------+-------------------+\n",
      "|efficiencyScore|         prediction|\n",
      "+---------------+-------------------+\n",
      "|           0.09| 0.1717937842865192|\n",
      "|           0.11|0.19880663086235328|\n",
      "|           0.15|0.26358818147514457|\n",
      "|           0.15|0.26358818147514457|\n",
      "|           0.09| 0.1717937842865192|\n",
      "+---------------+-------------------+\n",
      "\n"
     ]
    }
   ],
   "source": [
    "pred.select('efficiencyScore', 'prediction').show()"
   ]
  },
  {
   "cell_type": "code",
   "execution_count": 17,
   "id": "e5caae24-2c09-4dc4-994e-b527dfd57ce7",
   "metadata": {},
   "outputs": [
    {
     "data": {
      "text/plain": [
       "(0.6146803976545887, 0.09029380624055988)"
      ]
     },
     "execution_count": 17,
     "metadata": {},
     "output_type": "execute_result"
    }
   ],
   "source": [
    "model.summary.r2, model.summary.rootMeanSquaredError"
   ]
  },
  {
   "cell_type": "code",
   "execution_count": null,
   "id": "eb4a2dad-72f2-4565-b887-cb9081a44f31",
   "metadata": {},
   "outputs": [],
   "source": [
    "spark.stop()"
   ]
  }
 ],
 "metadata": {
  "kernelspec": {
   "display_name": "Python 3 (ipykernel)",
   "language": "python",
   "name": "python3"
  },
  "language_info": {
   "codemirror_mode": {
    "name": "ipython",
    "version": 3
   },
   "file_extension": ".py",
   "mimetype": "text/x-python",
   "name": "python",
   "nbconvert_exporter": "python",
   "pygments_lexer": "ipython3",
   "version": "3.11.6"
  }
 },
 "nbformat": 4,
 "nbformat_minor": 5
}
