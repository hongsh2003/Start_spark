{
 "cells": [
  {
   "cell_type": "markdown",
   "id": "a7c05024-38c2-4bfe-aaec-eba78fa01e62",
   "metadata": {},
   "source": [
    "# 마인크래프트 분석 보고서\n",
    "## 분석 주제: 오버월드에 있는 몹 중 가장 가성비 (잡는 난이도 대비 가치) 있는 몹은 무엇인가?"
   ]
  },
  {
   "cell_type": "markdown",
   "id": "ddb81e64-1c36-44a2-bca8-1cd6d1bc255b",
   "metadata": {},
   "source": [
    "## 데이터 불러오기"
   ]
  },
  {
   "cell_type": "code",
   "execution_count": 1,
   "id": "bff68235-0380-4f3b-82c5-6ed5f3dc08c8",
   "metadata": {},
   "outputs": [
    {
     "data": {
      "text/html": [
       "\n",
       "            <div>\n",
       "                <p><b>SparkSession - in-memory</b></p>\n",
       "                \n",
       "        <div>\n",
       "            <p><b>SparkContext</b></p>\n",
       "\n",
       "            <p><a href=\"http://ecb20e85d7fa:4040\">Spark UI</a></p>\n",
       "\n",
       "            <dl>\n",
       "              <dt>Version</dt>\n",
       "                <dd><code>v3.5.0</code></dd>\n",
       "              <dt>Master</dt>\n",
       "                <dd><code>local[*]</code></dd>\n",
       "              <dt>AppName</dt>\n",
       "                <dd><code>Minecraft</code></dd>\n",
       "            </dl>\n",
       "        </div>\n",
       "        \n",
       "            </div>\n",
       "        "
      ],
      "text/plain": [
       "<pyspark.sql.session.SparkSession at 0x7fb7cd721790>"
      ]
     },
     "execution_count": 1,
     "metadata": {},
     "output_type": "execute_result"
    }
   ],
   "source": [
    "# Initialise Spark Session\n",
    "from pyspark.sql import SparkSession\n",
    "\n",
    "spark = SparkSession.builder.appName('Minecraft').getOrCreate()\n",
    "spark"
   ]
  },
  {
   "cell_type": "code",
   "execution_count": 2,
   "id": "214b88ae-addd-4b8f-a2ed-7eb64b9c1b86",
   "metadata": {},
   "outputs": [],
   "source": [
    "# CSV 파일 로드\n",
    "\n",
    "# 사냥 난이도 계산 파일\n",
    "Mobs = spark.read.csv('../learning_spark_data/minecraft/Mobs.csv', header = True, inferSchema = True) # 몹 정보 불러오기\n",
    "\n",
    "# 드롭 가치 계산 파일\n",
    "## 음식\n",
    "Food = spark.read.csv('../learning_spark_data/minecraft/Food.csv', header = True, inferSchema = True) # 음식 정보 불러오기\n",
    "MobFood = spark.read.csv('../learning_spark_data/minecraft/MobFoodDrops.csv', header = True, inferSchema = True) # 몹이 드롭하는 음식 정보 불러오기\n",
    "\n",
    "## Tool and Armour\n",
    "TA = spark.read.csv('../learning_spark_data/minecraft/ToolsAndArmors.csv', header = True, inferSchema = True) # 도구 & 갑옷 정보 불러오기\n",
    "MobTA = spark.read.csv('../learning_spark_data/minecraft/MobToolsAndArmorDrops.csv', header = True, inferSchema = True) # 몹이 드롭하는 도구 & 갑옷 정보 불러오기"
   ]
  },
  {
   "cell_type": "code",
   "execution_count": 3,
   "id": "760d3a16-bb4d-4e4e-8499-ec2f7774d160",
   "metadata": {
    "scrolled": true
   },
   "outputs": [
    {
     "name": "stdout",
     "output_type": "stream",
     "text": [
      "+---+--------------+-------------+---------------+------------+---------+-------------------+----------------+-----------------------+\n",
      "| ID|          name|behaviorTypes|  spawnBehavior|healthPoints|maxDamage|          debutDate|minecraftVersion|reproductiveRequirement|\n",
      "+---+--------------+-------------+---------------+------------+---------+-------------------+----------------+-----------------------+\n",
      "|  1|   sniffer_egg|     Peaceful|Player Summoned|           0|        0|2023-06-07 00:00:00|          1.20.0|                   NULL|\n",
      "|  2|    turtle_egg|     Peaceful|Player Summoned|           0|        0|2018-07-18 00:00:00|          1.13.0|                   NULL|\n",
      "|  3|           bat|     Peaceful|         Random|           6|     NULL|2012-10-25 00:00:00|           1.4.2|                   NULL|\n",
      "|  4|         blaze|      Hostile|        On Load|          20|        6|2011-11-18 00:00:00|           1.0.0|                   NULL|\n",
      "|  5|       chicken|     Peaceful|         Random|           4|     NULL|2011-11-18 00:00:00|           1.0.0|            Wheat Seeds|\n",
      "|  6|       dolphin|  Conditional|         Random|          10|        3|2018-07-18 00:00:00|          1.13.0|                   NULL|\n",
      "|  7|     endermite|      Hostile|Player Summoned|           8|        2|2014-09-02 00:00:00|           1.8.0|                   NULL|\n",
      "|  8|      guardian|      Hostile|        On Load|          30|        6|2014-09-02 00:00:00|           1.8.0|                   NULL|\n",
      "|  9|guardian_elder|      Hostile|        On Load|          80|        8|2014-09-02 00:00:00|           1.8.0|                   NULL|\n",
      "| 10|       phantom|      Hostile|          Night|          20|        2|2018-07-18 00:00:00|          1.13.0|                   NULL|\n",
      "+---+--------------+-------------+---------------+------------+---------+-------------------+----------------+-----------------------+\n",
      "only showing top 10 rows\n",
      "\n",
      "None\n",
      "+---+---------------+------+------+-------------------+----------------+\n",
      "| ID|           name|  type|hunger|          debutDate|minecraftVersion|\n",
      "+---+---------------+------+------+-------------------+----------------+\n",
      "| 13| cooked_chicken|Animal|     6|2011-11-18 00:00:00|           1.0.0|\n",
      "| 19|         cookie| Plant|     2|2011-11-18 00:00:00|           1.0.0|\n",
      "|  1|          apple| Plant|     4|2011-11-18 00:00:00|           1.0.0|\n",
      "| 25|    melon_slice| Plant|     2|2011-11-18 00:00:00|           1.0.0|\n",
      "| 26|    milk_bucket|Animal|     0|2011-11-18 00:00:00|           1.0.0|\n",
      "| 27|  mushroom_stew| Plant|     6|2011-11-18 00:00:00|           1.0.0|\n",
      "| 16|cooked_porkchop|Animal|     8|2011-11-18 00:00:00|           1.0.0|\n",
      "|  6|          bread| Plant|     5|2011-11-18 00:00:00|           1.0.0|\n",
      "| 30|       porkchop|Animal|     3|2011-11-18 00:00:00|           1.0.0|\n",
      "| 22|   golden_apple| Plant|     4|2011-11-18 00:00:00|           1.0.0|\n",
      "+---+---------------+------+------+-------------------+----------------+\n",
      "only showing top 10 rows\n",
      "\n",
      "None\n",
      "+-----+------+\n",
      "|mobID|foodID|\n",
      "+-----+------+\n",
      "|    5|     9|\n",
      "|    6|    11|\n",
      "|    8|    11|\n",
      "|    9|    11|\n",
      "|   17|    11|\n",
      "|   17|    36|\n",
      "|   21|     3|\n",
      "|   22|     3|\n",
      "|   26|    11|\n",
      "|   28|    36|\n",
      "+-----+------+\n",
      "only showing top 10 rows\n",
      "\n",
      "None\n",
      "+---+--------------------+------+-------------------+----------------+----------+-------------------+\n",
      "| ID|                name|  type|          debutDate|minecraftVersion|durability|primaryIngredientID|\n",
      "+---+--------------------+------+-------------------+----------------+----------+-------------------+\n",
      "|  1|               arrow|Weapon|2011-11-18 00:00:00|           1.0.0|      NULL|               NULL|\n",
      "|  2|      axolotl_bucket|  Tool|2018-07-18 00:00:00|          1.13.0|      NULL|               NULL|\n",
      "|  3|                 bow|Weapon|2011-11-18 00:00:00|           1.0.0|       384|               NULL|\n",
      "|  4|               brush|  Tool|2023-06-07 00:00:00|          1.20.0|        64|               NULL|\n",
      "|  5|              bucket|  Tool|2011-11-18 00:00:00|           1.0.0|      NULL|                 65|\n",
      "|  6|              bundle|  Tool|2021-06-08 00:00:00|          1.17.0|      NULL|                 98|\n",
      "|  7|   carrot_on_a_stick|  Tool|2012-10-25 00:00:00|           1.4.2|        25|               NULL|\n",
      "|  8|     chainmail_boots| Armor|2011-11-18 00:00:00|           1.0.0|       195|               NULL|\n",
      "|  9|chainmail_chestplate| Armor|2011-11-18 00:00:00|           1.0.0|       240|               NULL|\n",
      "| 10|    chainmail_helmet| Armor|2011-11-18 00:00:00|           1.0.0|       165|               NULL|\n",
      "+---+--------------------+------+-------------------+----------------+----------+-------------------+\n",
      "only showing top 10 rows\n",
      "\n",
      "None\n",
      "+-----+---------------+\n",
      "|mobID|toolsAndArmorID|\n",
      "+-----+---------------+\n",
      "|   78|             22|\n",
      "|   78|             77|\n",
      "|   78|             78|\n",
      "|   78|             79|\n",
      "|   78|             81|\n",
      "|   77|             42|\n",
      "|   77|             43|\n",
      "|   77|             44|\n",
      "|   77|             47|\n",
      "|   77|             49|\n",
      "+-----+---------------+\n",
      "only showing top 10 rows\n",
      "\n",
      "None\n"
     ]
    }
   ],
   "source": [
    "# 데이터 확인\n",
    "print(Mobs.show(10))\n",
    "print(Food.show(10))\n",
    "print(MobFood.show(10))\n",
    "print(TA.show(10))\n",
    "print(MobTA.show(10))"
   ]
  },
  {
   "cell_type": "code",
   "execution_count": 4,
   "id": "c60592ab-ef27-4412-9c87-c3ab9ffef738",
   "metadata": {},
   "outputs": [],
   "source": [
    "# 필요없는 데이터 컬럼 drop\n",
    "Mobs = Mobs.drop(\"behaviorTypes\", \"spawnBehavior\", \"debutDate\", \"minecraftVersion\", \"reproductiveRequirement\")\n",
    "Food = Food.drop(\"debutDate\", \"minecraftVersion\")\n",
    "TA = TA.drop(\"debutDate\", \"minecraftVersion\")"
   ]
  },
  {
   "cell_type": "markdown",
   "id": "eec51746-4e75-4e68-a87e-8aa3229aa744",
   "metadata": {},
   "source": [
    "불러온 데이터를 확인한 후 필요 없는 컬럼은 제거하였다.\n",
    "\n",
    "Mobs에서는 \"behaviorTypes\", \"spawnBehavior\", \"debutDate\", \"minecraftVersion\", \"reproductiveRequirement\",\\\n",
    "Food에서는 \"debutDate\", \"minecraftVersion\",\\\n",
    "TA에서도 \"debutDate\", \"minecraftVersion\"를 드롭하였다."
   ]
  },
  {
   "cell_type": "code",
   "execution_count": 5,
   "id": "6e5a0f14-bf5d-45d3-9dcd-94be09d2108e",
   "metadata": {
    "scrolled": true
   },
   "outputs": [
    {
     "name": "stdout",
     "output_type": "stream",
     "text": [
      "+---+--------------+------------+---------+\n",
      "| ID|          name|healthPoints|maxDamage|\n",
      "+---+--------------+------------+---------+\n",
      "|  1|   sniffer_egg|           0|        0|\n",
      "|  2|    turtle_egg|           0|        0|\n",
      "|  3|           bat|           6|     NULL|\n",
      "|  4|         blaze|          20|        6|\n",
      "|  5|       chicken|           4|     NULL|\n",
      "|  6|       dolphin|          10|        3|\n",
      "|  7|     endermite|           8|        2|\n",
      "|  8|      guardian|          30|        6|\n",
      "|  9|guardian_elder|          80|        8|\n",
      "| 10|       phantom|          20|        2|\n",
      "+---+--------------+------------+---------+\n",
      "only showing top 10 rows\n",
      "\n",
      "None\n",
      "+---+---------------+------+------+\n",
      "| ID|           name|  type|hunger|\n",
      "+---+---------------+------+------+\n",
      "| 13| cooked_chicken|Animal|     6|\n",
      "| 19|         cookie| Plant|     2|\n",
      "|  1|          apple| Plant|     4|\n",
      "| 25|    melon_slice| Plant|     2|\n",
      "| 26|    milk_bucket|Animal|     0|\n",
      "| 27|  mushroom_stew| Plant|     6|\n",
      "| 16|cooked_porkchop|Animal|     8|\n",
      "|  6|          bread| Plant|     5|\n",
      "| 30|       porkchop|Animal|     3|\n",
      "| 22|   golden_apple| Plant|     4|\n",
      "+---+---------------+------+------+\n",
      "only showing top 10 rows\n",
      "\n",
      "None\n",
      "+-----+------+\n",
      "|mobID|foodID|\n",
      "+-----+------+\n",
      "|    5|     9|\n",
      "|    6|    11|\n",
      "|    8|    11|\n",
      "|    9|    11|\n",
      "|   17|    11|\n",
      "|   17|    36|\n",
      "|   21|     3|\n",
      "|   22|     3|\n",
      "|   26|    11|\n",
      "|   28|    36|\n",
      "+-----+------+\n",
      "only showing top 10 rows\n",
      "\n",
      "None\n",
      "+---+--------------------+------+----------+-------------------+\n",
      "| ID|                name|  type|durability|primaryIngredientID|\n",
      "+---+--------------------+------+----------+-------------------+\n",
      "|  1|               arrow|Weapon|      NULL|               NULL|\n",
      "|  2|      axolotl_bucket|  Tool|      NULL|               NULL|\n",
      "|  3|                 bow|Weapon|       384|               NULL|\n",
      "|  4|               brush|  Tool|        64|               NULL|\n",
      "|  5|              bucket|  Tool|      NULL|                 65|\n",
      "|  6|              bundle|  Tool|      NULL|                 98|\n",
      "|  7|   carrot_on_a_stick|  Tool|        25|               NULL|\n",
      "|  8|     chainmail_boots| Armor|       195|               NULL|\n",
      "|  9|chainmail_chestplate| Armor|       240|               NULL|\n",
      "| 10|    chainmail_helmet| Armor|       165|               NULL|\n",
      "+---+--------------------+------+----------+-------------------+\n",
      "only showing top 10 rows\n",
      "\n",
      "None\n",
      "+-----+---------------+\n",
      "|mobID|toolsAndArmorID|\n",
      "+-----+---------------+\n",
      "|   78|             22|\n",
      "|   78|             77|\n",
      "|   78|             78|\n",
      "|   78|             79|\n",
      "|   78|             81|\n",
      "|   77|             42|\n",
      "|   77|             43|\n",
      "|   77|             44|\n",
      "|   77|             47|\n",
      "|   77|             49|\n",
      "+-----+---------------+\n",
      "only showing top 10 rows\n",
      "\n",
      "None\n"
     ]
    }
   ],
   "source": [
    "# 드롭 후 데이터 확인\n",
    "print(Mobs.show(10))\n",
    "print(Food.show(10))\n",
    "print(MobFood.show(10))\n",
    "print(TA.show(10))\n",
    "print(MobTA.show(10))"
   ]
  },
  {
   "cell_type": "code",
   "execution_count": 6,
   "id": "33d3da1d-1963-4df4-ba28-c38526a6daae",
   "metadata": {},
   "outputs": [],
   "source": [
    "# 필요없는 행 삭제\n",
    "from pyspark.sql.functions import col\n",
    "\n",
    "Mobs = Mobs.filter(col(\"healthPoints\") != 0)"
   ]
  },
  {
   "cell_type": "markdown",
   "id": "5b0c3c89-a5ed-4e30-979c-e4b92c9477dc",
   "metadata": {},
   "source": [
    "Mobs 데이터에서 healthPoint가 0인 몹들은 식량이 될 수 없기 때문에 생존에 도움이 되지 않는다. 따라서 제거했다."
   ]
  },
  {
   "cell_type": "code",
   "execution_count": 7,
   "id": "fc70e7c0-3565-4cde-9f5c-7cc061477a81",
   "metadata": {},
   "outputs": [],
   "source": [
    "spark.stop()"
   ]
  },
  {
   "cell_type": "code",
   "execution_count": null,
   "id": "51c15402-bfb7-4fd6-9e40-7d8cbf26c9b4",
   "metadata": {},
   "outputs": [],
   "source": []
  },
  {
   "cell_type": "code",
   "execution_count": null,
   "id": "df7feda9-72a0-4ecf-a5c8-4f88d29ce515",
   "metadata": {},
   "outputs": [],
   "source": []
  },
  {
   "cell_type": "code",
   "execution_count": null,
   "id": "ea887193-a182-492f-9d01-76ba1d0a41db",
   "metadata": {},
   "outputs": [],
   "source": []
  },
  {
   "cell_type": "code",
   "execution_count": null,
   "id": "27812ce2-95d8-4b88-b1dc-bac8fd885da6",
   "metadata": {},
   "outputs": [],
   "source": []
  }
 ],
 "metadata": {
  "kernelspec": {
   "display_name": "Python 3 (ipykernel)",
   "language": "python",
   "name": "python3"
  },
  "language_info": {
   "codemirror_mode": {
    "name": "ipython",
    "version": 3
   },
   "file_extension": ".py",
   "mimetype": "text/x-python",
   "name": "python",
   "nbconvert_exporter": "python",
   "pygments_lexer": "ipython3",
   "version": "3.11.6"
  }
 },
 "nbformat": 4,
 "nbformat_minor": 5
}
