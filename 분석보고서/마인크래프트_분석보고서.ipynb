{
 "cells": [
  {
   "cell_type": "markdown",
   "id": "f0da7a4e-8a57-4c9e-a4df-af15c75c658e",
   "metadata": {},
   "source": [
    "# 분석보고서"
   ]
  },
  {
   "cell_type": "code",
   "execution_count": 1,
   "id": "b49c0d38-318d-457f-9f81-ac6bd92c61ff",
   "metadata": {},
   "outputs": [],
   "source": [
    "from pyspark.sql import SparkSession\n",
    "from pyspark.sql.functions import col, when, sum as spark_sum\n",
    "\n",
    "spark = SparkSession.builder.appName(\"MobEfficiency\").getOrCreate()"
   ]
  },
  {
   "cell_type": "markdown",
   "id": "862000f2-0b4d-4054-89ca-769a569853ab",
   "metadata": {},
   "source": [
    "## 데이터 불러오기"
   ]
  },
  {
   "cell_type": "code",
   "execution_count": 2,
   "id": "97c5355d-0ae1-4b2a-b98c-2a0767627598",
   "metadata": {},
   "outputs": [],
   "source": [
    "mobs = spark.read.csv('../learning_spark_data/minecraft/Mobs.csv', header=True, inferSchema=True)\n",
    "food = spark.read.csv('../learning_spark_data/minecraft/Food.csv', header=True, inferSchema=True)\n",
    "mob_food = spark.read.csv('../learning_spark_data/minecraft/MobFoodDrops.csv', header=True, inferSchema=True)"
   ]
  },
  {
   "cell_type": "markdown",
   "id": "a2b02da7-476e-4bee-8e7a-80e7d08a7605",
   "metadata": {},
   "source": [
    "### 데이터 전처리"
   ]
  },
  {
   "cell_type": "code",
   "execution_count": 3,
   "id": "8910028a-e304-42a1-adea-4fd69080b79b",
   "metadata": {},
   "outputs": [],
   "source": [
    "# 필요없는 데이터 컬럼 drop\n",
    "mobs = mobs.drop(\"behaviorTypes\", \"spawnBehavior\", \"debutDate\", \"minecraftVersion\", \"reproductiveRequirement\")\n",
    "food = food.drop(\"debutDate\", \"minecraftVersion\")"
   ]
  },
  {
   "cell_type": "code",
   "execution_count": 4,
   "id": "19768499-7f45-42bd-9b00-2d30202c1842",
   "metadata": {},
   "outputs": [],
   "source": [
    "# NULL 처리 및 캐스팅\n",
    "mobs = mobs.withColumn(\"healthPoints\", col(\"healthPoints\").cast(\"double\"))\n",
    "mobs = mobs.withColumn(\"maxDamage\", when(col(\"maxDamage\").isNull(), 0).otherwise(col(\"maxDamage\")).cast(\"double\"))\n",
    "mobs = mobs.withColumn(\"difficultyScore\", col(\"healthPoints\") + col(\"maxDamage\") * 2)\n",
    "\n",
    "food = food.withColumn(\"hunger\", col(\"hunger\").cast(\"double\"))  # 드롭 가치 = hunger"
   ]
  },
  {
   "cell_type": "code",
   "execution_count": 5,
   "id": "d9cca451-38cf-4e29-bba0-969e4bfcdad6",
   "metadata": {},
   "outputs": [
    {
     "name": "stdout",
     "output_type": "stream",
     "text": [
      "+---+--------------+------------+---------+---------------+\n",
      "| ID|          name|healthPoints|maxDamage|difficultyScore|\n",
      "+---+--------------+------------+---------+---------------+\n",
      "|  1|   sniffer_egg|         0.0|      0.0|            0.0|\n",
      "|  2|    turtle_egg|         0.0|      0.0|            0.0|\n",
      "|  3|           bat|         6.0|      0.0|            6.0|\n",
      "|  4|         blaze|        20.0|      6.0|           32.0|\n",
      "|  5|       chicken|         4.0|      0.0|            4.0|\n",
      "|  6|       dolphin|        10.0|      3.0|           16.0|\n",
      "|  7|     endermite|         8.0|      2.0|           12.0|\n",
      "|  8|      guardian|        30.0|      6.0|           42.0|\n",
      "|  9|guardian_elder|        80.0|      8.0|           96.0|\n",
      "| 10|       phantom|        20.0|      2.0|           24.0|\n",
      "+---+--------------+------------+---------+---------------+\n",
      "only showing top 10 rows\n",
      "\n",
      "None\n",
      "+---+---------------+------+------+\n",
      "| ID|           name|  type|hunger|\n",
      "+---+---------------+------+------+\n",
      "| 13| cooked_chicken|Animal|   6.0|\n",
      "| 19|         cookie| Plant|   2.0|\n",
      "|  1|          apple| Plant|   4.0|\n",
      "| 25|    melon_slice| Plant|   2.0|\n",
      "| 26|    milk_bucket|Animal|   0.0|\n",
      "| 27|  mushroom_stew| Plant|   6.0|\n",
      "| 16|cooked_porkchop|Animal|   8.0|\n",
      "|  6|          bread| Plant|   5.0|\n",
      "| 30|       porkchop|Animal|   3.0|\n",
      "| 22|   golden_apple| Plant|   4.0|\n",
      "+---+---------------+------+------+\n",
      "only showing top 10 rows\n",
      "\n",
      "None\n",
      "+-----+------+\n",
      "|mobID|foodID|\n",
      "+-----+------+\n",
      "|    5|     9|\n",
      "|    6|    11|\n",
      "|    8|    11|\n",
      "|    9|    11|\n",
      "|   17|    11|\n",
      "|   17|    36|\n",
      "|   21|     3|\n",
      "|   22|     3|\n",
      "|   26|    11|\n",
      "|   28|    36|\n",
      "+-----+------+\n",
      "only showing top 10 rows\n",
      "\n",
      "None\n"
     ]
    }
   ],
   "source": [
    "# NULL 값 처리 및 데이터 확인\n",
    "print(mobs.show(10))\n",
    "print(food.show(10))\n",
    "print(mob_food.show(10))"
   ]
  },
  {
   "cell_type": "markdown",
   "id": "3a382dd8-99fe-47dc-9fa4-debeee9546b2",
   "metadata": {},
   "source": [
    "## 몹과 음식 간 드롭 관계 Join"
   ]
  },
  {
   "cell_type": "code",
   "execution_count": 6,
   "id": "1ddef0ff-9863-4d4a-8c40-118360aaf028",
   "metadata": {},
   "outputs": [
    {
     "name": "stdout",
     "output_type": "stream",
     "text": [
      "+-----+--------------+\n",
      "|mobID|totalDropValue|\n",
      "+-----+--------------+\n",
      "|   53|           3.0|\n",
      "|   78|           8.0|\n",
      "|   34|           3.0|\n",
      "|   28|           2.0|\n",
      "|   76|           8.0|\n",
      "|   26|           2.0|\n",
      "|   22|           3.0|\n",
      "|   52|           4.0|\n",
      "|    6|           2.0|\n",
      "|   54|           3.0|\n",
      "+-----+--------------+\n",
      "only showing top 10 rows\n",
      "\n"
     ]
    }
   ],
   "source": [
    "# mobID → 몹 ID, foodID → 음식 ID로 연결\n",
    "\n",
    "# mob_food + food 조인 (foodID 기준)\n",
    "mob_food_value = mob_food.join(food, mob_food[\"foodID\"] == food[\"ID\"], how=\"left\") \\\n",
    "                         .select(mob_food[\"mobID\"], food[\"hunger\"])\n",
    "\n",
    "# 몹별 총 음식 드롭 가치 합산\n",
    "mob_drop_value = mob_food_value.groupBy(\"mobID\").agg(\n",
    "    spark_sum(\"hunger\").alias(\"totalDropValue\")\n",
    ")\n",
    "\n",
    "mob_drop_value.show(10)"
   ]
  },
  {
   "cell_type": "markdown",
   "id": "3d60a918-b5aa-4c21-a08e-e70739d38fb7",
   "metadata": {},
   "source": [
    "<Mob과 Food 데이터 조인>\n",
    "- mob_food.join(food, mob_food[\"foodID\"] == food[\"ID\"], how=\"left\")\n",
    "- 몹이 어떤 음식을 드롭하는지, 해당 음식의 회복량(hunger)은 얼마인지 연결\n",
    "\n",
    "<필요한 컬럼 선택>\n",
    "- .select(mob_food[\"mobID\"], food[\"hunger\"])\n",
    "- 몹 ID와 음식 가치만 추출\n",
    "\n",
    "<몹별 음식 가치 합산>\n",
    "- .groupBy(\"mobID\").agg(sum(\"hunger\").alias(\"totalDropValue\"))\n",
    "- 각 몹이 드롭하는 모든 음식의 회복량을 합산 → totalDropValue로 저장\n",
    "\n",
    "**결과 해석**\n",
    "- mobID 별로 해당 몹이 사냥 시 떨어뜨리는 음식의 총 회복량을 수치화함\n",
    "- totalDropValue 값이 클수록, 사냥 시 음식 회복 아이템 획득 기대값이 높음\n",
    "- totalDropValue = 0인 경우는 음식 드롭이 없거나, hunger=0인 음식을 드롭하는 경우"
   ]
  },
  {
   "cell_type": "markdown",
   "id": "b3d9e53d-d64c-4b90-a09f-1d19d6625b0c",
   "metadata": {},
   "source": [
    "### 시각화"
   ]
  },
  {
   "cell_type": "code",
   "execution_count": 7,
   "id": "c604e327-aa02-4bf7-9e96-9df6dfec9f7e",
   "metadata": {},
   "outputs": [],
   "source": [
    "# PySpark DataFrame을 Pandas로 변환\n",
    "mob_drop_pd = mob_drop_value.toPandas()"
   ]
  },
  {
   "cell_type": "code",
   "execution_count": 8,
   "id": "001cf12e-785a-4e3a-9069-904e7d628beb",
   "metadata": {},
   "outputs": [],
   "source": [
    "# mobs에서 ID, name만 추출\n",
    "mob_names = mobs.select(\"ID\", \"name\")\n",
    "\n",
    "# ID 기준으로 join\n",
    "mob_drop_named = mob_drop_value.join(mob_names, mob_drop_value[\"mobID\"] == mob_names[\"ID\"], how=\"left\") \\\n",
    "                                .select(\"name\", \"totalDropValue\")\n",
    "\n",
    "# Pandas로 변환\n",
    "mob_drop_pd = mob_drop_named.toPandas()"
   ]
  },
  {
   "cell_type": "code",
   "execution_count": 9,
   "id": "c855554b-c2aa-4d8e-8e3c-f5fcda3acf9c",
   "metadata": {},
   "outputs": [
    {
     "data": {
      "image/png": "[encoded data removed]",
      "text/plain": [
       "<Figure size 1000x600 with 1 Axes>"
      ]
     },
     "metadata": {},
     "output_type": "display_data"
    }
   ],
   "source": [
    "import matplotlib.pyplot as plt\n",
    "\n",
    "# 값이 큰 순서로 정렬 (TOP 10)\n",
    "top_mobs = mob_drop_pd.sort_values(\"totalDropValue\", ascending=False).head(10)\n",
    "\n",
    "# 바 차트 그리기\n",
    "plt.figure(figsize=(10, 6))\n",
    "plt.barh(top_mobs[\"name\"], top_mobs[\"totalDropValue\"], color='seagreen')\n",
    "plt.xlabel(\"Total Food Drop Value\")\n",
    "plt.ylabel(\"Mob Name\")\n",
    "plt.title(\"Top 10 Mobs by Total Food Drop Value\")\n",
    "plt.gca().invert_yaxis()  # 값 큰 것 위로\n",
    "plt.grid(True, linestyle='--', alpha=0.5)\n",
    "plt.tight_layout()\n",
    "plt.show()"
   ]
  },
  {
   "cell_type": "markdown",
   "id": "1bdd9524-596b-44dc-9ad7-5bf19071eb5c",
   "metadata": {},
   "source": [
    "<그래프 설명>\n",
    "- X축: 해당 몹이 드롭하는 음식의 총 회복량 (Total Food Drop Value)\n",
    "    - 드롭되는 음식의 hunger 값(회복력)을 합산한 것\n",
    "- Y축: 몹 이름 (Mob Name)\n",
    "- 막대길이: 해당 몹을 사냥했을 때 기대할 수 있는 음식 아이템의 총 가치\n",
    "\n",
    "<주요 해석 포인트>\n",
    "- 1위 ~ 3위:\n",
    "    - zombie_villager, zombie, husk\n",
    "    - 모두 Total Drop Value = 8로 가장 높음\n",
    "    - 동일한 음식을 드롭하거나, 같은 종류의 음식 드롭이 중첩되는 구조로 추정됨\n",
    "\n",
    "- 중위권:\n",
    "    - drowned, zoglin, zombified_piglin, polarbear\n",
    "    - 4로 동일한 드롭 가치를 가짐\n",
    "    - 보스급은 아니지만 식량 획득에 유용한 몹으로 해석 가능\n",
    "\n",
    "- 하위권 (10위권 이내):\n",
    "    - cow, pig, killer rabbit → 3\n",
    "    - 전통적인 음식 드롭 몹 (가축류)임에도 불구하고 상대적으로 낮은 총 가치\n",
    "    - 아마도 하나의 음식만 드롭하거나, hunger 값이 낮은 음식일 가능성\n",
    " \n",
    "**결론 및 활용 제안**\n",
    "- 좀비 계열 몹이 의외로 높은 음식 드롭 가치를 보유함 → 효율적인 사냥 대상\n",
    "    - 단순히 가축이 아니라, 적대적 몹들 (zombie 계열)도 음식 드롭 측면에서 효율적일 수 있음\n",
    "- 이 데이터를 바탕으로 사냥 가성비(드롭 가치 / 난이도) 를 추가 분석하면 전략 수립 가능\n",
    "\n"
   ]
  },
  {
   "cell_type": "markdown",
   "id": "dad3220a-93cb-4a4e-8515-46badd64994a",
   "metadata": {},
   "source": [
    "## mobs + drop 가치 join → 가성비 계산"
   ]
  },
  {
   "cell_type": "code",
   "execution_count": 18,
   "id": "2bcd8563-4a7c-4646-91bd-d81c433e3592",
   "metadata": {},
   "outputs": [
    {
     "name": "stdout",
     "output_type": "stream",
     "text": [
      "+----------------+------------+---------+---------------+--------------+-------------------+\n",
      "|name            |healthPoints|maxDamage|difficultyScore|totalDropValue|efficiencyScore_2dp|\n",
      "+----------------+------------+---------+---------------+--------------+-------------------+\n",
      "|salmon          |3.0         |0.0      |3.0            |2.0           |0.50               |\n",
      "|cod             |3.0         |0.0      |3.0            |2.0           |0.50               |\n",
      "|chicken         |4.0         |0.0      |4.0            |2.0           |0.40               |\n",
      "|zombie_villager |20.0        |3.0      |26.0           |8.0           |0.30               |\n",
      "|husk            |20.0        |3.0      |26.0           |8.0           |0.30               |\n",
      "|zombie          |20.0        |3.0      |26.0           |8.0           |0.30               |\n",
      "|mooshroom       |10.0        |0.0      |10.0           |3.0           |0.27               |\n",
      "|pig             |10.0        |0.0      |10.0           |3.0           |0.27               |\n",
      "|cow             |10.0        |0.0      |10.0           |3.0           |0.27               |\n",
      "|tropical fish   |3.0         |0.0      |3.0            |1.0           |0.25               |\n",
      "|sheep           |8.0         |0.0      |8.0            |2.0           |0.22               |\n",
      "|killer rabbit   |3.0         |8.0      |19.0           |3.0           |0.15               |\n",
      "|rabbit          |3.0         |8.0      |19.0           |3.0           |0.15               |\n",
      "|dolphin         |10.0        |3.0      |16.0           |2.0           |0.12               |\n",
      "|zombified_piglin|20.0        |8.0      |36.0           |4.0           |0.11               |\n",
      "|polarbear       |30.0        |6.0      |42.0           |4.0           |0.09               |\n",
      "|drowned         |20.0        |11.0     |42.0           |4.0           |0.09               |\n",
      "|zoglin          |40.0        |8.0      |56.0           |4.0           |0.07               |\n",
      "|hoglin          |40.0        |8.0      |56.0           |3.0           |0.05               |\n",
      "|guardian        |30.0        |6.0      |42.0           |2.0           |0.05               |\n",
      "|guardian_elder  |80.0        |8.0      |96.0           |2.0           |0.02               |\n",
      "+----------------+------------+---------+---------------+--------------+-------------------+\n",
      "\n"
     ]
    }
   ],
   "source": [
    "from pyspark.sql.functions import col, when, format_number\n",
    "\n",
    "# mobs.ID ↔ mob_drop_value.mobID 연결\n",
    "mob_efficiency = mobs.join(mob_drop_value, mobs[\"ID\"] == mob_drop_value[\"mobID\"], how=\"left\")\n",
    "\n",
    "# NULL 처리: 드롭 없으면 0\n",
    "mob_efficiency = mob_efficiency.withColumn(\n",
    "    \"totalDropValue\",\n",
    "    when(col(\"totalDropValue\").isNull(), 0).otherwise(col(\"totalDropValue\"))\n",
    ")\n",
    "\n",
    "# 가성비 계산: 드롭 가치 / (사냥 난이도 + 1)\n",
    "mob_efficiency = mob_efficiency.withColumn(\n",
    "    \"efficiencyScore\",\n",
    "    col(\"totalDropValue\") / (col(\"difficultyScore\") + 1)\n",
    ")\n",
    "\n",
    "# totalDropValue가 0인 행 제거\n",
    "mob_efficiency = mob_efficiency.filter(col(\"totalDropValue\") > 0)\n",
    "\n",
    "# 소수점 둘째자리로 포맷 (출력용)\n",
    "mob_efficiency = mob_efficiency.withColumn(\n",
    "    \"efficiencyScore_2dp\", format_number(\"efficiencyScore\", 2)\n",
    ")\n",
    "\n",
    "# 출력\n",
    "mob_efficiency.select(\n",
    "    \"name\", \"healthPoints\", \"maxDamage\", \"difficultyScore\", \"totalDropValue\", \"efficiencyScore_2dp\"\n",
    ").orderBy(col(\"efficiencyScore\").desc()).show(30, truncate=False)"
   ]
  },
  {
   "cell_type": "code",
   "execution_count": null,
   "id": "359f5634-1b28-4474-98bc-639eb48c449b",
   "metadata": {},
   "outputs": [],
   "source": []
  },
  {
   "cell_type": "code",
   "execution_count": null,
   "id": "06f4bd12-c535-44e3-99a7-4e1d2215231d",
   "metadata": {},
   "outputs": [],
   "source": []
  },
  {
   "cell_type": "code",
   "execution_count": null,
   "id": "28406c35-bf54-49b5-8bfb-25734c08cfe9",
   "metadata": {},
   "outputs": [],
   "source": []
  },
  {
   "cell_type": "markdown",
   "id": "d18222ee-22b7-4119-b496-e6260f8204a5",
   "metadata": {},
   "source": [
    "## 결과 출력 (가성비 높은 몹 상위 10)"
   ]
  },
  {
   "cell_type": "code",
   "execution_count": 12,
   "id": "026b97d5-9f1d-411c-8d0a-031f56d38e88",
   "metadata": {},
   "outputs": [
    {
     "name": "stdout",
     "output_type": "stream",
     "text": [
      "+---------------+------------+---------+---------------+--------------+---------------+\n",
      "|name           |healthPoints|maxDamage|difficultyScore|totalDropValue|efficiencyScore|\n",
      "+---------------+------------+---------+---------------+--------------+---------------+\n",
      "|cod            |3.0         |0.0      |3.0            |2.0           |0.5            |\n",
      "|salmon         |3.0         |0.0      |3.0            |2.0           |0.5            |\n",
      "|chicken        |4.0         |0.0      |4.0            |2.0           |0.4            |\n",
      "|husk           |20.0        |3.0      |26.0           |8.0           |0.3            |\n",
      "|zombie         |20.0        |3.0      |26.0           |8.0           |0.3            |\n",
      "|zombie_villager|20.0        |3.0      |26.0           |8.0           |0.3            |\n",
      "|cow            |10.0        |0.0      |10.0           |3.0           |0.27           |\n",
      "|mooshroom      |10.0        |0.0      |10.0           |3.0           |0.27           |\n",
      "|pig            |10.0        |0.0      |10.0           |3.0           |0.27           |\n",
      "|tropical fish  |3.0         |0.0      |3.0            |1.0           |0.25           |\n",
      "+---------------+------------+---------+---------------+--------------+---------------+\n",
      "only showing top 10 rows\n",
      "\n"
     ]
    }
   ],
   "source": [
    "from pyspark.sql.functions import round, col\n",
    "\n",
    "mob_efficiency.select(\n",
    "    \"name\",\n",
    "    \"healthPoints\",\n",
    "    \"maxDamage\",\n",
    "    \"difficultyScore\",\n",
    "    \"totalDropValue\",\n",
    "    round(\"efficiencyScore\", 2).alias(\"efficiencyScore\")\n",
    ").orderBy(col(\"efficiencyScore\").desc()) \\\n",
    " .show(10, truncate=False)"
   ]
  },
  {
   "cell_type": "code",
   "execution_count": null,
   "id": "e706c999-3dab-4d72-8d66-743b5f947af5",
   "metadata": {},
   "outputs": [],
   "source": []
  }
 ],
 "metadata": {
  "kernelspec": {
   "display_name": "Python 3 (ipykernel)",
   "language": "python",
   "name": "python3"
  },
  "language_info": {
   "codemirror_mode": {
    "name": "ipython",
    "version": 3
   },
   "file_extension": ".py",
   "mimetype": "text/x-python",
   "name": "python",
   "nbconvert_exporter": "python",
   "pygments_lexer": "ipython3",
   "version": "3.11.6"
  }
 },
 "nbformat": 4,
 "nbformat_minor": 5
}
