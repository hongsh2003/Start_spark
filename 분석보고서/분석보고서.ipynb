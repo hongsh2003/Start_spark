{
 "cells": [
  {
   "cell_type": "markdown",
   "id": "f0da7a4e-8a57-4c9e-a4df-af15c75c658e",
   "metadata": {},
   "source": []
  },
  {
   "cell_type": "code",
   "execution_count": 2,
   "id": "b49c0d38-318d-457f-9f81-ac6bd92c61ff",
   "metadata": {},
   "outputs": [],
   "source": [
    "from pyspark.sql import SparkSession\n",
    "from pyspark.sql.functions import col, when, sum as spark_sum\n",
    "\n",
    "spark = SparkSession.builder.appName(\"MobEfficiency\").getOrCreate()\n",
    "\n",
    "# 데이터 불러오기\n",
    "mobs = spark.read.csv('../learning_spark_data/minecraft/Mobs.csv', header=True, inferSchema=True)\n",
    "food = spark.read.csv('../learning_spark_data/minecraft/Food.csv', header=True, inferSchema=True)\n",
    "mob_food = spark.read.csv('../learning_spark_data/minecraft/MobFoodDrops.csv', header=True, inferSchema=True)"
   ]
  },
  {
   "cell_type": "code",
   "execution_count": 3,
   "id": "8910028a-e304-42a1-adea-4fd69080b79b",
   "metadata": {},
   "outputs": [],
   "source": [
    "# 필요없는 데이터 컬럼 drop\n",
    "mobs = mobs.drop(\"behaviorTypes\", \"spawnBehavior\", \"debutDate\", \"minecraftVersion\", \"reproductiveRequirement\")\n",
    "food = food.drop(\"debutDate\", \"minecraftVersion\")"
   ]
  },
  {
   "cell_type": "code",
   "execution_count": 4,
   "id": "19768499-7f45-42bd-9b00-2d30202c1842",
   "metadata": {},
   "outputs": [],
   "source": [
    "# NULL 처리 및 캐스팅\n",
    "mobs = mobs.withColumn(\"healthPoints\", col(\"healthPoints\").cast(\"double\"))\n",
    "mobs = mobs.withColumn(\"maxDamage\", when(col(\"maxDamage\").isNull(), 0).otherwise(col(\"maxDamage\")).cast(\"double\"))\n",
    "mobs = mobs.withColumn(\"difficultyScore\", col(\"healthPoints\") + col(\"maxDamage\") * 2)\n",
    "\n",
    "food = food.withColumn(\"hunger\", col(\"hunger\").cast(\"double\"))  # 드롭 가치 = hunger"
   ]
  },
  {
   "cell_type": "code",
   "execution_count": 5,
   "id": "d9cca451-38cf-4e29-bba0-969e4bfcdad6",
   "metadata": {},
   "outputs": [
    {
     "name": "stdout",
     "output_type": "stream",
     "text": [
      "+---+--------------+------------+---------+---------------+\n",
      "| ID|          name|healthPoints|maxDamage|difficultyScore|\n",
      "+---+--------------+------------+---------+---------------+\n",
      "|  1|   sniffer_egg|         0.0|      0.0|            0.0|\n",
      "|  2|    turtle_egg|         0.0|      0.0|            0.0|\n",
      "|  3|           bat|         6.0|      0.0|            6.0|\n",
      "|  4|         blaze|        20.0|      6.0|           32.0|\n",
      "|  5|       chicken|         4.0|      0.0|            4.0|\n",
      "|  6|       dolphin|        10.0|      3.0|           16.0|\n",
      "|  7|     endermite|         8.0|      2.0|           12.0|\n",
      "|  8|      guardian|        30.0|      6.0|           42.0|\n",
      "|  9|guardian_elder|        80.0|      8.0|           96.0|\n",
      "| 10|       phantom|        20.0|      2.0|           24.0|\n",
      "+---+--------------+------------+---------+---------------+\n",
      "only showing top 10 rows\n",
      "\n",
      "None\n",
      "+---+---------------+------+------+\n",
      "| ID|           name|  type|hunger|\n",
      "+---+---------------+------+------+\n",
      "| 13| cooked_chicken|Animal|   6.0|\n",
      "| 19|         cookie| Plant|   2.0|\n",
      "|  1|          apple| Plant|   4.0|\n",
      "| 25|    melon_slice| Plant|   2.0|\n",
      "| 26|    milk_bucket|Animal|   0.0|\n",
      "| 27|  mushroom_stew| Plant|   6.0|\n",
      "| 16|cooked_porkchop|Animal|   8.0|\n",
      "|  6|          bread| Plant|   5.0|\n",
      "| 30|       porkchop|Animal|   3.0|\n",
      "| 22|   golden_apple| Plant|   4.0|\n",
      "+---+---------------+------+------+\n",
      "only showing top 10 rows\n",
      "\n",
      "None\n",
      "+-----+------+\n",
      "|mobID|foodID|\n",
      "+-----+------+\n",
      "|    5|     9|\n",
      "|    6|    11|\n",
      "|    8|    11|\n",
      "|    9|    11|\n",
      "|   17|    11|\n",
      "|   17|    36|\n",
      "|   21|     3|\n",
      "|   22|     3|\n",
      "|   26|    11|\n",
      "|   28|    36|\n",
      "+-----+------+\n",
      "only showing top 10 rows\n",
      "\n",
      "None\n"
     ]
    }
   ],
   "source": [
    "# NULL 값 처리 및 데이터 확인\n",
    "print(mobs.show(10))\n",
    "print(food.show(10))\n",
    "print(mob_food.show(10))"
   ]
  },
  {
   "cell_type": "code",
   "execution_count": 6,
   "id": "1ddef0ff-9863-4d4a-8c40-118360aaf028",
   "metadata": {},
   "outputs": [],
   "source": [
    "# mobID → 몹 ID, foodID → 음식 ID로 연결\n",
    "# 먼저 mob_food + food 조인 (foodID 기준)\n",
    "mob_food_value = mob_food.join(food, mob_food[\"foodID\"] == food[\"ID\"], how=\"left\") \\\n",
    "                         .select(mob_food[\"mobID\"], food[\"hunger\"])\n",
    "\n",
    "# 몹별 총 음식 드롭 가치 합산\n",
    "mob_drop_value = mob_food_value.groupBy(\"mobID\").agg(\n",
    "    spark_sum(\"hunger\").alias(\"totalDropValue\")\n",
    ")"
   ]
  },
  {
   "cell_type": "code",
   "execution_count": 7,
   "id": "6f5db13f-6425-4f0f-a2c9-0d1f5df80346",
   "metadata": {},
   "outputs": [],
   "source": [
    "# mobs.ID ↔ mob_drop_value.mobID 연결\n",
    "mob_efficiency = mobs.join(mob_drop_value, mobs[\"ID\"] == mob_drop_value[\"mobID\"], how=\"left\")\n",
    "\n",
    "# NULL 처리: 드롭 없으면 0\n",
    "mob_efficiency = mob_efficiency.withColumn(\"totalDropValue\",\n",
    "    when(col(\"totalDropValue\").isNull(), 0).otherwise(col(\"totalDropValue\"))\n",
    ")\n",
    "\n",
    "# 가성비 계산: 드롭 가치 / (사냥 난이도 + 1)  ← 0 나눔 방지\n",
    "mob_efficiency = mob_efficiency.withColumn(\"efficiencyScore\",\n",
    "    col(\"totalDropValue\") / (col(\"difficultyScore\") + 1)\n",
    ")\n"
   ]
  },
  {
   "cell_type": "code",
   "execution_count": 8,
   "id": "026b97d5-9f1d-411c-8d0a-031f56d38e88",
   "metadata": {},
   "outputs": [
    {
     "name": "stdout",
     "output_type": "stream",
     "text": [
      "+---------------+------------+---------+---------------+--------------+------------------+\n",
      "|name           |healthPoints|maxDamage|difficultyScore|totalDropValue|efficiencyScore   |\n",
      "+---------------+------------+---------+---------------+--------------+------------------+\n",
      "|cod            |3.0         |0.0      |3.0            |2.0           |0.5               |\n",
      "|salmon         |3.0         |0.0      |3.0            |2.0           |0.5               |\n",
      "|chicken        |4.0         |0.0      |4.0            |2.0           |0.4               |\n",
      "|husk           |20.0        |3.0      |26.0           |8.0           |0.2962962962962963|\n",
      "|zombie         |20.0        |3.0      |26.0           |8.0           |0.2962962962962963|\n",
      "|zombie_villager|20.0        |3.0      |26.0           |8.0           |0.2962962962962963|\n",
      "|cow            |10.0        |0.0      |10.0           |3.0           |0.2727272727272727|\n",
      "|mooshroom      |10.0        |0.0      |10.0           |3.0           |0.2727272727272727|\n",
      "|pig            |10.0        |0.0      |10.0           |3.0           |0.2727272727272727|\n",
      "|tropical fish  |3.0         |0.0      |3.0            |1.0           |0.25              |\n",
      "+---------------+------------+---------+---------------+--------------+------------------+\n",
      "only showing top 10 rows\n",
      "\n"
     ]
    }
   ],
   "source": [
    "mob_efficiency.select(\"name\", \"healthPoints\", \"maxDamage\", \"difficultyScore\", \"totalDropValue\", \"efficiencyScore\") \\\n",
    "              .orderBy(col(\"efficiencyScore\").desc()) \\\n",
    "              .show(10, truncate=False)\n"
   ]
  },
  {
   "cell_type": "code",
   "execution_count": null,
   "id": "e706c999-3dab-4d72-8d66-743b5f947af5",
   "metadata": {},
   "outputs": [],
   "source": []
  }
 ],
 "metadata": {
  "kernelspec": {
   "display_name": "Python 3 (ipykernel)",
   "language": "python",
   "name": "python3"
  },
  "language_info": {
   "codemirror_mode": {
    "name": "ipython",
    "version": 3
   },
   "file_extension": ".py",
   "mimetype": "text/x-python",
   "name": "python",
   "nbconvert_exporter": "python",
   "pygments_lexer": "ipython3",
   "version": "3.11.6"
  }
 },
 "nbformat": 4,
 "nbformat_minor": 5
}
